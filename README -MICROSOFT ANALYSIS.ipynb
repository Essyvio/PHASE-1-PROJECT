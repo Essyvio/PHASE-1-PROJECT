{
 "cells": [
  {
   "cell_type": "markdown",
   "id": "ccdcfaad",
   "metadata": {},
   "source": [
    "##  **MICROSOFT MOVIE ANALYSIS**"
   ]
  },
  {
   "cell_type": "markdown",
   "id": "1bc50dc7",
   "metadata": {},
   "source": [
    "###  **OVERVIEW**\n"
   ]
  },
  {
   "cell_type": "markdown",
   "id": "46e59cd5",
   "metadata": {},
   "source": [
    "Microsoft have decided to create a new movie studio and require more insight into which types of films are doing best at the box office.This repo helps to explore relationships between average rating, numof votes and the domestic gross.The study uses descriptive analysis for the study with the data gathered originating from several libraries that is Csv,Numpy,pandas,seaborn, matplot among several libraries.The analysis has used three data sets for analysis; this include imdb.title basics;imdb.title ratings& bom.movie gross to give an insight on which genre combination Microsoft should employ to maximize their profits through high domestic gross sales.The data has missing values on three parameters;genre,runtime & domestic_gross with a 1%,10% &95% of the percentage of missing data.Since runtime_minutes & genres had small percentage of the data  missing, dropping those rows or columns might not significantly impact my analysis.For the domestic gross;the number of missing values is 95% thus dropping the missing values could affect my analysis hence imputation will be the best technique to use in retaining more data & also reducing the impact of dropping of missing values.For successful, sustained gross earnings over time, Microsoft  should produce History genres. The genre has the highest  amount of gross earnings of 369Million dollars per film.The data performed a feature engineering by rating the audience preferences in terms of 'Poor', 'Fair', 'Average', 'Good'& 'Excellent & restriction on the genre to be watched based on the age groups into the three categories; 'rated PG', 'restricted', 'no restriction.During handling outliers a box plot was used.The data has used groupby to conduct exploratory data analysis.In addition to this visualization has used Four method which include; barplot, scatter diagram, heatmap & histogram .\n",
    "\n",
    "For immediately successful gross earnings, Microsoft should produce movies that are Commedy, documentary,fantasy has the highest ratings; which contribute to gross earning of at least 150 million dollars per film.\n",
    "\n",
    "Thus for microsoft to maximize profits through the domestic_gross ; they should for ways to reduce their operating costs in the longrun. These can include; setting a realistic budget; analyzing the script & the actors and lastly optimizing the equipments & crew."
   ]
  },
  {
   "cell_type": "markdown",
   "id": "b5e612d9",
   "metadata": {},
   "source": [
    "### **Business problem**"
   ]
  },
  {
   "cell_type": "markdown",
   "id": "7eabfe21",
   "metadata": {},
   "source": [
    "Microsoft want to produce movies that are going to be successful in order to make profits, for the company to achieve successful. Thus to achieve the objective; the data was analysed using domestic_gross,averagerating & numberof votes to explain which genre the company should use to improve on the profitability in terms of domestic_gross earning.\n",
    "\n"
   ]
  },
  {
   "cell_type": "markdown",
   "id": "048f80b3",
   "metadata": {},
   "source": [
    "### **Data**"
   ]
  },
  {
   "cell_type": "markdown",
   "id": "99843c06",
   "metadata": {},
   "source": [
    "The data analysed came from IMDb website.This repo used three files  imdb.title.basics,title.ratings&bom.movie_gross to explore relationships between average rating, numof votes and the domestic gross in studying which genre yield higher returns .I began by importing several libraries that is Csv,Numpy,pandas,seaborn, matplotlib & warnings among several libraries.After confirming that the libraries were okay, i went further to import the three csv files for my study using pd.read_csv(df=pd.read_csv)I merged the two datasets, df1titles_basic_info and df2ratings together using the 'tconst' column as it was a unique identifier creating a new dataframe called df4.After i used the concatenation to combined the newdataframe df4 with df3 to get a newdataframe df5 since there was no unique identifier .\n",
    "\n",
    "After i dropped columns that were irrelevant to my study using (df5.drop(columns_to_drop, axis=1, inplace=True)The oldcolumns were 13 after dropping they got to 7 for validity.Null values were cleaned by dropping those that were insignificant for the study & the domestic gross since it had a higher percentage of missing value;imputation by median was done to reduce the impact of missing values\n",
    "\n"
   ]
  },
  {
   "cell_type": "markdown",
   "id": "5330346f",
   "metadata": {},
   "source": [
    "### **Methods**"
   ]
  },
  {
   "cell_type": "markdown",
   "id": "3e253b15",
   "metadata": {},
   "source": [
    "To conduct the data analysis , i needed to combine  three files into one master file. I was able to use the merging & concatenation function to merge all the three data sets.For my IMDB files ; i dropped 'title', 'studio', 'foreign_gross', 'year','tconst' and 'original_title' since they were irrelevant & also they were not addressing Microsoft business needs.Null values were cleaned by dropping those that were insignificant for the study & the domestic gross since it had a higher percentage of missing value;imputation by median was done to reduce the impact of missing values. Correlation analysis & Group-by methods were conducted to verify the meaningful relationship between the area of study."
   ]
  },
  {
   "cell_type": "markdown",
   "id": "ce0045d5",
   "metadata": {},
   "source": [
    "### **Results**"
   ]
  },
  {
   "cell_type": "markdown",
   "id": "b5cf3647",
   "metadata": {},
   "source": [
    "Microsoft business problem of establishing their own new video studio to compete within the movie market & also wanting to know the kind of movies will be the most successful.\n",
    "\n",
    "The above problem has been resolved by exploring relationships between average rating, numof votes and the domestic gross.\n",
    "To earn the highest rate of returns the company should consider using History genre when analysing the movie script through using group-by genre & calculating the mean rating.\n",
    "\n",
    "Commedy, documentary,fantasy has the highest ratings using Group-by when comparing the relationship between Genres & average ratings hence more returns in terms of earnings since individuals would prefer watching the genres in exchange of revenue to the company offering the services\n",
    "\n",
    "To improve on the area of study ; i will ensure that the data is broken down into the year of release to identify if the target audience preference change over time."
   ]
  },
  {
   "cell_type": "markdown",
   "id": "cc5c7777",
   "metadata": {},
   "source": [
    "###   **Recommendations& conclusion**\n",
    "\n",
    "For successful, sustained gross earnings over time, Microsoft  should produce History genres. The genre has the highest  amount of gross earnings of 369Million dollars per film\n",
    "\n",
    "For immediately successful gross earnings, Microsoft should produce movies that are Commedy, documentary,fantasy has the highest ratings; which contribute to gross earning of at least 150 million dollars per film.\n",
    "\n",
    "Thus for microsoft to maximize profits through the domestic_gross ; they should identify\n",
    "ways to reduce their operating costs in the longrun. These can include; setting a realistic budget; analyzing the script & the actors and lastly optimizing the equipments & crew."
   ]
  },
  {
   "cell_type": "markdown",
   "id": "506cc427",
   "metadata": {},
   "source": [
    "### **Repository Structure**"
   ]
  },
  {
   "cell_type": "markdown",
   "id": "495e731a",
   "metadata": {},
   "source": [
    "Describe the structure of your repository and its contents, for example:\n",
    "\n",
    "\n",
    "├── README.md                           <- The top-level README for reviewers of this project\n",
    "├── dsc-phase1-project-template.ipynb   <- Narrative documentation of analysis in Jupyter notebook\n",
    "├── DS_Project_Presentation.pdf         <- PDF version of project presentation\n",
    "├── data                             \n",
    "└                           "
   ]
  },
  {
   "cell_type": "code",
   "execution_count": null,
   "id": "95ff5695",
   "metadata": {},
   "outputs": [],
   "source": []
  }
 ],
 "metadata": {
  "kernelspec": {
   "display_name": "Python 3 (ipykernel)",
   "language": "python",
   "name": "python3"
  },
  "language_info": {
   "codemirror_mode": {
    "name": "ipython",
    "version": 3
   },
   "file_extension": ".py",
   "mimetype": "text/x-python",
   "name": "python",
   "nbconvert_exporter": "python",
   "pygments_lexer": "ipython3",
   "version": "3.11.5"
  }
 },
 "nbformat": 4,
 "nbformat_minor": 5
}
